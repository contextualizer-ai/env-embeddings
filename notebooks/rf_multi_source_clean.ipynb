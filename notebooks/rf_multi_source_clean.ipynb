{
 "cells": [
  {
   "metadata": {},
   "cell_type": "markdown",
   "source": "## Setup"
  },
  {
   "metadata": {
    "ExecuteTime": {
     "end_time": "2025-10-08T19:34:13.708158Z",
     "start_time": "2025-10-08T19:34:13.705272Z"
    }
   },
   "cell_type": "code",
   "source": [
    "from pathlib import Path\n",
    "import sys"
   ],
   "outputs": [],
   "execution_count": 1
  },
  {
   "cell_type": "code",
   "metadata": {
    "ExecuteTime": {
     "end_time": "2025-10-08T19:34:14.091737Z",
     "start_time": "2025-10-08T19:34:14.089218Z"
    }
   },
   "source": [
    "# Add src to path\n",
    "sys.path.insert(0, str(Path('../src').absolute()))"
   ],
   "outputs": [],
   "execution_count": 2
  },
  {
   "cell_type": "code",
   "metadata": {
    "ExecuteTime": {
     "end_time": "2025-10-08T19:34:14.873842Z",
     "start_time": "2025-10-08T19:34:14.104577Z"
    }
   },
   "source": [
    "from env_embeddings.rf_analysis import (\n",
    "    load_source_data,\n",
    "    analyze_source,\n",
    "    create_comparison_table,\n",
    "    print_summary,\n",
    ")"
   ],
   "outputs": [],
   "execution_count": 3
  },
  {
   "cell_type": "code",
   "metadata": {
    "ExecuteTime": {
     "end_time": "2025-10-08T19:34:14.901851Z",
     "start_time": "2025-10-08T19:34:14.896770Z"
    }
   },
   "source": [
    "import matplotlib.pyplot as plt\n",
    "import seaborn as sns"
   ],
   "outputs": [],
   "execution_count": 4
  },
  {
   "cell_type": "code",
   "metadata": {
    "ExecuteTime": {
     "end_time": "2025-10-08T19:34:14.958045Z",
     "start_time": "2025-10-08T19:34:14.952138Z"
    }
   },
   "source": [
    "# Configure plotting\n",
    "plt.style.use('default')\n",
    "sns.set_palette(\"husl\")\n",
    "plt.rcParams['figure.figsize'] = (12, 6)\n",
    "plt.rcParams['font.size'] = 11"
   ],
   "outputs": [],
   "execution_count": 5
  },
  {
   "cell_type": "markdown",
   "metadata": {},
   "source": [
    "## Load Data Sources"
   ]
  },
  {
   "cell_type": "code",
   "metadata": {
    "ExecuteTime": {
     "end_time": "2025-10-08T19:34:14.988153Z",
     "start_time": "2025-10-08T19:34:14.982748Z"
    }
   },
   "source": [
    "# Define data sources (GOLD and NMDC first, NCBI later)\n",
    "SOURCES = {\n",
    "    'GOLD': Path('../data/gold_flattened_biosamples_for_env_embeddings_202510061108_complete.csv'),\n",
    "    'NMDC': Path('../data/nmdc_flattened_biosample_for_env_embeddings_202510061052_complete.csv'),\n",
    "}"
   ],
   "outputs": [],
   "execution_count": 6
  },
  {
   "cell_type": "code",
   "metadata": {
    "ExecuteTime": {
     "end_time": "2025-10-08T19:34:25.749353Z",
     "start_time": "2025-10-08T19:34:15.021734Z"
    }
   },
   "source": "# Load deduplicated data\ndatasets_dedup = {}\nfor source_name, file_path in SOURCES.items():\n    df = load_source_data(file_path, source_name, deduplicate=True)\n    if df is not None:\n        datasets_dedup[source_name] = df",
   "outputs": [
    {
     "name": "stdout",
     "output_type": "stream",
     "text": [
      "\n",
      "============================================================\n",
      "Loading GOLD\n",
      "============================================================\n",
      "  Loaded: 10,401 rows\n",
      "  Deduped: 4,198 rows (removed 6,203 = 59.6%)\n",
      "  ⚠️  NOTE: Removed 59.6% exact duplicates - this indicates significant pseudo-replication\n",
      "  Complete data: 4,198 rows\n",
      "  Valid embeddings: 4,198 rows\n",
      "\n",
      "  ENVO scale class counts:\n",
      "    env_broad_scale     :   40 classes\n",
      "    env_local_scale     :  139 classes\n",
      "    env_medium          :   78 classes\n",
      "\n",
      "============================================================\n",
      "Loading NMDC\n",
      "============================================================\n",
      "  Loaded: 8,121 rows\n",
      "  Deduped: 4,646 rows (removed 3,475 = 42.8%)\n",
      "  ⚠️  NOTE: Removed 42.8% exact duplicates - this indicates significant pseudo-replication\n",
      "  Complete data: 4,646 rows\n",
      "  Valid embeddings: 4,646 rows\n",
      "\n",
      "  ENVO scale class counts:\n",
      "    env_broad_scale     :   19 classes\n",
      "    env_local_scale     :   51 classes\n",
      "    env_medium          :   30 classes\n"
     ]
    }
   ],
   "execution_count": 7
  },
  {
   "cell_type": "markdown",
   "metadata": {},
   "source": [
    "## Train Random Forest Models"
   ]
  },
  {
   "cell_type": "markdown",
   "source": "# Load non-deduplicated data for comparison\ndatasets_no_dedup = {}\nfor source_name, file_path in SOURCES.items():\n    df = load_source_data(file_path, source_name, deduplicate=False)\n    if df is not None:\n        datasets_no_dedup[source_name] = df",
   "metadata": {}
  },
  {
   "cell_type": "code",
   "metadata": {
    "ExecuteTime": {
     "end_time": "2025-10-08T19:34:36.729337Z",
     "start_time": "2025-10-08T19:34:25.826462Z"
    }
   },
   "source": "# Train models for all sources (deduplicated)\nall_results = {}\nfor source_name, df in datasets_dedup.items():\n    all_results[source_name] = analyze_source(df, source_name)",
   "outputs": [
    {
     "name": "stdout",
     "output_type": "stream",
     "text": [
      "\n",
      "------------------------------------------------------------\n",
      "Training models: GOLD\n",
      "------------------------------------------------------------\n",
      "\n",
      "  env_broad_scale...\n",
      "    Filtered: removed 14 rare classes (29 samples with <5 per class)\n",
      "    Removed classes (14):\n",
      "      - ENVO:01001830: 4 samples\n",
      "      - ENVO:01000216: 4 samples\n",
      "      - ENVO:01000030: 3 samples\n",
      "      - ENVO:01000208: 3 samples\n",
      "      - ENVO:01001838: 2 samples\n",
      "      - ENVO:01000048: 2 samples\n",
      "      - ENVO:01001836: 2 samples\n",
      "      - ENVO:01001831: 2 samples\n",
      "      - ENVO:01000247: 2 samples\n",
      "      - ENVO:01000127: 1 samples\n",
      "      ... and 4 more\n"
     ]
    },
    {
     "name": "stderr",
     "output_type": "stream",
     "text": [
      "/Users/MAM/Documents/gitrepos/env-embeddings/.venv/lib/python3.11/site-packages/sklearn/model_selection/_split.py:811: UserWarning: The least populated class in y has only 3 members, which is less than n_splits=5.\n",
      "  warnings.warn(\n"
     ]
    },
    {
     "name": "stdout",
     "output_type": "stream",
     "text": [
      "    Classes:  26 | Test acc: 0.826 | CV: 0.837±0.020 | Overfit: +0.086\n",
      "\n",
      "  env_local_scale...\n",
      "    Filtered: removed 63 rare classes (120 samples with <5 per class)\n",
      "    Removed classes (63):\n",
      "      - ENVO:00000058: 4 samples\n",
      "      - ENVO:00000533: 4 samples\n",
      "      - ENVO:00000309: 4 samples\n",
      "      - ENVO:00000150: 4 samples\n",
      "      - ENVO:00000248: 4 samples\n",
      "      - ENVO:00000444: 4 samples\n",
      "      - ENVO:00001997: 4 samples\n",
      "      - ENVO:01000159: 4 samples\n",
      "      - ENVO:00000014: 4 samples\n",
      "      - ENVO:00000055: 4 samples\n",
      "      ... and 53 more\n"
     ]
    },
    {
     "name": "stderr",
     "output_type": "stream",
     "text": [
      "/Users/MAM/Documents/gitrepos/env-embeddings/.venv/lib/python3.11/site-packages/sklearn/model_selection/_split.py:811: UserWarning: The least populated class in y has only 2 members, which is less than n_splits=5.\n",
      "  warnings.warn(\n"
     ]
    },
    {
     "name": "stdout",
     "output_type": "stream",
     "text": [
      "    Classes:  76 | Test acc: 0.775 | CV: 0.748±0.013 | Overfit: +0.127\n",
      "\n",
      "  env_medium...\n",
      "    Filtered: removed 29 rare classes (51 samples with <5 per class)\n",
      "    Removed classes (29):\n",
      "      - ENVO:00001995: 4 samples\n",
      "      - ENVO:01000358: 4 samples\n",
      "      - ENVO:01001206: 4 samples\n",
      "      - ENVO:00005754: 3 samples\n",
      "      - ENVO:00002263: 3 samples\n",
      "      - ENVO:01000134: 3 samples\n",
      "      - ENVO:00005741: 2 samples\n",
      "      - ENVO:01001185: 2 samples\n",
      "      - ENVO:00005742: 2 samples\n",
      "      - ENVO:00002258: 2 samples\n",
      "      ... and 19 more\n"
     ]
    },
    {
     "name": "stderr",
     "output_type": "stream",
     "text": [
      "/Users/MAM/Documents/gitrepos/env-embeddings/.venv/lib/python3.11/site-packages/sklearn/model_selection/_split.py:811: UserWarning: The least populated class in y has only 3 members, which is less than n_splits=5.\n",
      "  warnings.warn(\n"
     ]
    },
    {
     "name": "stdout",
     "output_type": "stream",
     "text": [
      "    Classes:  49 | Test acc: 0.747 | CV: 0.728±0.014 | Overfit: +0.120\n",
      "\n",
      "------------------------------------------------------------\n",
      "Training models: NMDC\n",
      "------------------------------------------------------------\n",
      "\n",
      "  env_broad_scale...\n",
      "    Filtered: removed 7 rare classes (15 samples with <5 per class)\n",
      "    Removed classes (7):\n",
      "      - ENVO:01000174: 4 samples\n",
      "      - ENVO:01000215: 3 samples\n",
      "      - ENVO:01000189: 2 samples\n",
      "      - ENVO:01000196: 2 samples\n",
      "      - ENVO:01000216: 2 samples\n",
      "      - ENVO:01000247: 1 samples\n",
      "      - ENVO:01000049: 1 samples\n"
     ]
    },
    {
     "name": "stderr",
     "output_type": "stream",
     "text": [
      "/Users/MAM/Documents/gitrepos/env-embeddings/.venv/lib/python3.11/site-packages/sklearn/model_selection/_split.py:811: UserWarning: The least populated class in y has only 4 members, which is less than n_splits=5.\n",
      "  warnings.warn(\n"
     ]
    },
    {
     "name": "stdout",
     "output_type": "stream",
     "text": [
      "    Classes:  12 | Test acc: 0.933 | CV: 0.929±0.010 | Overfit: +0.024\n",
      "\n",
      "  env_local_scale...\n",
      "    Filtered: removed 15 rare classes (28 samples with <5 per class)\n",
      "    Removed classes (15):\n",
      "      - ENVO:00002130: 4 samples\n",
      "      - ENVO:00002132: 3 samples\n",
      "      - ENVO:03600018: 2 samples\n",
      "      - ENVO:00000083: 2 samples\n",
      "      - ENVO:00000182: 2 samples\n",
      "      - ENVO:00000444: 2 samples\n",
      "      - ENVO:00000086: 2 samples\n",
      "      - ENVO:03600011: 2 samples\n",
      "      - ENVO:00000305: 2 samples\n",
      "      - ENVO:00000516: 2 samples\n",
      "      ... and 5 more\n"
     ]
    },
    {
     "name": "stderr",
     "output_type": "stream",
     "text": [
      "/Users/MAM/Documents/gitrepos/env-embeddings/.venv/lib/python3.11/site-packages/sklearn/model_selection/_split.py:811: UserWarning: The least populated class in y has only 2 members, which is less than n_splits=5.\n",
      "  warnings.warn(\n"
     ]
    },
    {
     "name": "stdout",
     "output_type": "stream",
     "text": [
      "    Classes:  36 | Test acc: 0.843 | CV: 0.855±0.009 | Overfit: +0.096\n",
      "\n",
      "  env_medium...\n",
      "    Filtered: removed 11 rare classes (21 samples with <5 per class)\n",
      "    Removed classes (11):\n",
      "      - ENVO:00005761: 4 samples\n",
      "      - ENVO:03605002: 3 samples\n",
      "      - ENVO:00005750: 3 samples\n",
      "      - ENVO:00002275: 2 samples\n",
      "      - ENVO:00005781: 2 samples\n",
      "      - ENVO:03605003: 2 samples\n",
      "      - ENVO:00005760: 1 samples\n",
      "      - ENVO:00005773: 1 samples\n",
      "      - ENVO:01000155: 1 samples\n",
      "      - ENVO:00005801: 1 samples\n",
      "      ... and 1 more\n"
     ]
    },
    {
     "name": "stderr",
     "output_type": "stream",
     "text": [
      "/Users/MAM/Documents/gitrepos/env-embeddings/.venv/lib/python3.11/site-packages/sklearn/model_selection/_split.py:811: UserWarning: The least populated class in y has only 2 members, which is less than n_splits=5.\n",
      "  warnings.warn(\n"
     ]
    },
    {
     "name": "stdout",
     "output_type": "stream",
     "text": [
      "    Classes:  19 | Test acc: 0.824 | CV: 0.861±0.008 | Overfit: +0.092\n"
     ]
    }
   ],
   "execution_count": 8
  },
  {
   "cell_type": "markdown",
   "metadata": {},
   "source": [
    "## Results Summary"
   ]
  },
  {
   "cell_type": "code",
   "metadata": {
    "ExecuteTime": {
     "end_time": "2025-10-08T19:34:36.774573Z",
     "start_time": "2025-10-08T19:34:36.768214Z"
    }
   },
   "source": [
    "# Create comparison table\n",
    "comparison_df = create_comparison_table(all_results)"
   ],
   "outputs": [],
   "execution_count": 9
  },
  {
   "cell_type": "code",
   "metadata": {
    "ExecuteTime": {
     "end_time": "2025-10-08T19:34:36.809283Z",
     "start_time": "2025-10-08T19:34:36.802892Z"
    }
   },
   "source": [
    "print(\"\\nDetailed Results:\")\n",
    "print(comparison_df.to_string(index=False))"
   ],
   "outputs": [
    {
     "name": "stdout",
     "output_type": "stream",
     "text": [
      "\n",
      "Detailed Results:\n",
      "Source       Scale  Classes  Samples  Test_Acc  CV_Mean   CV_Std  Overfitting\n",
      "  GOLD broad_scale       26     4169  0.826139 0.836882 0.009827     0.086005\n",
      "  GOLD local_scale       76     4078  0.774510 0.747700 0.006497     0.127391\n",
      "  GOLD      medium       49     4147  0.746988 0.728370 0.006968     0.120362\n",
      "  NMDC broad_scale       12     4631  0.933118 0.929268 0.004996     0.024496\n",
      "  NMDC local_scale       36     4618  0.843074 0.854631 0.004279     0.095746\n",
      "  NMDC      medium       19     4625  0.823784 0.861351 0.004152     0.091892\n"
     ]
    }
   ],
   "execution_count": 10
  },
  {
   "cell_type": "code",
   "metadata": {
    "ExecuteTime": {
     "end_time": "2025-10-08T19:34:36.852706Z",
     "start_time": "2025-10-08T19:34:36.841913Z"
    }
   },
   "source": [
    "# Print actionable summary\n",
    "print_summary(comparison_df)"
   ],
   "outputs": [
    {
     "name": "stdout",
     "output_type": "stream",
     "text": [
      "\n",
      "\n",
      "================================================================================\n",
      "SUMMARY: Random Forest ENVO Prediction Performance\n",
      "================================================================================\n",
      "\n",
      "Overall mean test accuracy: 0.825\n",
      "\n",
      "Best:  NMDC   broad_scale  = 0.933\n",
      "Worst: GOLD   medium       = 0.747\n",
      "\n",
      "Performance by source:\n",
      "  GOLD  : 0.783 avg, +0.111 overfit\n",
      "  NMDC  : 0.867 avg, +0.071 overfit\n",
      "\n",
      "Performance by scale:\n",
      "  broad_scale : 0.880 avg, 19 avg classes\n",
      "  local_scale : 0.809 avg, 56 avg classes\n",
      "  medium      : 0.785 avg, 34 avg classes\n",
      "\n",
      "================================================================================\n",
      "ACTIONABLE INSIGHTS\n",
      "================================================================================\n",
      "\n",
      "✓ Satellite embeddings have STRONG predictive power for ENVO terms\n",
      "⚠️  Moderate overfitting (max=0.127)\n"
     ]
    }
   ],
   "execution_count": 11
  },
  {
   "cell_type": "markdown",
   "metadata": {},
   "source": [
    "## Visualization: Test Accuracy by Scale"
   ]
  },
  {
   "cell_type": "code",
   "metadata": {
    "ExecuteTime": {
     "end_time": "2025-10-08T19:34:37.274055Z",
     "start_time": "2025-10-08T19:34:36.890986Z"
    }
   },
   "source": [
    "fig, ax = plt.subplots(figsize=(10, 6))\n",
    "\n",
    "for source in comparison_df['Source'].unique():\n",
    "    data = comparison_df[comparison_df['Source'] == source]\n",
    "    ax.plot(data['Scale'], data['Test_Acc'],\n",
    "            marker='o', linewidth=2, markersize=10, label=source)\n",
    "\n",
    "ax.set_title('Test Accuracy by ENVO Scale', fontsize=14, fontweight='bold')\n",
    "ax.set_xlabel('ENVO Scale')\n",
    "ax.set_ylabel('Test Accuracy')\n",
    "ax.set_ylim(0, 1.0)\n",
    "ax.legend(fontsize=12)\n",
    "ax.grid(alpha=0.3)\n",
    "plt.tight_layout()\n",
    "plt.show()"
   ],
   "outputs": [
    {
     "data": {
      "text/plain": [
       "<Figure size 1000x600 with 1 Axes>"
      ],
      "image/png": "[encoded data removed]"
     },
     "metadata": {},
     "output_type": "display_data"
    }
   ],
   "execution_count": 12
  },
  {
   "cell_type": "markdown",
   "metadata": {},
   "source": [
    "## Visualization: Average Accuracy by Source"
   ]
  },
  {
   "cell_type": "code",
   "metadata": {
    "ExecuteTime": {
     "end_time": "2025-10-08T19:34:37.318994Z",
     "start_time": "2025-10-08T19:34:37.314630Z"
    }
   },
   "source": [
    "avg_by_source = comparison_df.groupby('Source')['Test_Acc'].mean()"
   ],
   "outputs": [],
   "execution_count": 13
  },
  {
   "cell_type": "code",
   "metadata": {
    "ExecuteTime": {
     "end_time": "2025-10-08T19:34:37.655585Z",
     "start_time": "2025-10-08T19:34:37.358090Z"
    }
   },
   "source": [
    "fig, ax = plt.subplots(figsize=(8, 6))\n",
    "bars = ax.bar(avg_by_source.index, avg_by_source.values,\n",
    "              alpha=0.7, edgecolor='black', linewidth=2)\n",
    "ax.set_title('Average Test Accuracy by Source', fontsize=14, fontweight='bold')\n",
    "ax.set_ylabel('Average Test Accuracy')\n",
    "ax.set_ylim(0, 1.0)\n",
    "ax.grid(axis='y', alpha=0.3)\n",
    "\n",
    "# Add value labels\n",
    "for bar in bars:\n",
    "    height = bar.get_height()\n",
    "    ax.text(bar.get_x() + bar.get_width()/2., height + 0.02,\n",
    "            f'{height:.3f}', ha='center', fontweight='bold', fontsize=12)\n",
    "\n",
    "plt.tight_layout()\n",
    "plt.show()"
   ],
   "outputs": [
    {
     "data": {
      "text/plain": [
       "<Figure size 800x600 with 1 Axes>"
      ],
      "image/png": "[encoded data removed]"
     },
     "metadata": {},
     "output_type": "display_data"
    }
   ],
   "execution_count": 14
  },
  {
   "cell_type": "markdown",
   "metadata": {},
   "source": [
    "## Visualization: Overfitting Check"
   ]
  },
  {
   "cell_type": "code",
   "metadata": {
    "ExecuteTime": {
     "end_time": "2025-10-08T19:34:37.905093Z",
     "start_time": "2025-10-08T19:34:37.688325Z"
    }
   },
   "source": [
    "fig, ax = plt.subplots(figsize=(10, 6))\n",
    "\n",
    "# Color bars by overfitting severity\n",
    "colors = ['red' if x > 0.1 else 'orange' if x > 0.05 else 'green'\n",
    "          for x in comparison_df['Overfitting'].values]\n",
    "\n",
    "x_labels = [f\"{row['Source']}\\n{row['Scale']}\"\n",
    "            for _, row in comparison_df.iterrows()]\n",
    "\n",
    "bars = ax.bar(range(len(comparison_df)), comparison_df['Overfitting'].values,\n",
    "              color=colors, alpha=0.7, edgecolor='black', linewidth=1.5)\n",
    "\n",
    "ax.set_xticks(range(len(comparison_df)))\n",
    "ax.set_xticklabels(x_labels, rotation=45, ha='right')\n",
    "ax.set_ylabel('Overfitting (Train - Test Accuracy)')\n",
    "ax.set_title('Overfitting Analysis', fontsize=14, fontweight='bold')\n",
    "ax.axhline(y=0.1, color='red', linestyle='--', alpha=0.5, label='High (>0.1)')\n",
    "ax.axhline(y=0.05, color='orange', linestyle='--', alpha=0.5, label='Moderate (>0.05)')\n",
    "ax.legend()\n",
    "ax.grid(axis='y', alpha=0.3)\n",
    "\n",
    "plt.tight_layout()\n",
    "plt.show()"
   ],
   "outputs": [
    {
     "data": {
      "text/plain": [
       "<Figure size 1000x600 with 1 Axes>"
      ],
      "image/png": "[encoded data removed]"
     },
     "metadata": {},
     "output_type": "display_data"
    }
   ],
   "execution_count": 15
  },
  {
   "cell_type": "markdown",
   "metadata": {},
   "source": [
    "## Save Results"
   ]
  },
  {
   "cell_type": "code",
   "metadata": {
    "ExecuteTime": {
     "end_time": "2025-10-08T19:34:37.957357Z",
     "start_time": "2025-10-08T19:34:37.954160Z"
    }
   },
   "source": [
    "output_dir = Path('../results/rf_multi_source')\n",
    "output_dir.mkdir(parents=True, exist_ok=True)"
   ],
   "outputs": [],
   "execution_count": 16
  },
  {
   "cell_type": "code",
   "metadata": {
    "ExecuteTime": {
     "end_time": "2025-10-08T19:34:38.019301Z",
     "start_time": "2025-10-08T19:34:38.010150Z"
    }
   },
   "source": [
    "output_file = output_dir / 'comparison_results.csv'\n",
    "comparison_df.to_csv(output_file, index=False)\n",
    "print(f\"Results saved to: {output_file}\")"
   ],
   "outputs": [
    {
     "name": "stdout",
     "output_type": "stream",
     "text": [
      "Results saved to: ../results/rf_multi_source/comparison_results.csv\n"
     ]
    }
   ],
   "execution_count": 17
  },
  {
   "cell_type": "code",
   "source": "# Import per-class performance function\nfrom env_embeddings.rf_analysis import print_class_performance",
   "metadata": {
    "ExecuteTime": {
     "end_time": "2025-10-08T19:34:38.076765Z",
     "start_time": "2025-10-08T19:34:38.072638Z"
    }
   },
   "outputs": [],
   "execution_count": 18
  },
  {
   "cell_type": "code",
   "source": "# Show per-class performance for each source\nfor source_name in all_results:\n    print_class_performance(all_results[source_name], source_name)",
   "metadata": {
    "ExecuteTime": {
     "end_time": "2025-10-08T19:34:38.137623Z",
     "start_time": "2025-10-08T19:34:38.116998Z"
    }
   },
   "outputs": [
    {
     "name": "stdout",
     "output_type": "stream",
     "text": [
      "\n",
      "\n",
      "================================================================================\n",
      "PER-CLASS PERFORMANCE: GOLD\n",
      "================================================================================\n",
      "\n",
      "\n",
      "env_broad_scale:\n",
      "  Total classes: 22\n",
      "  Macro avg F1: 0.663\n",
      "  Weighted avg F1: 0.804\n",
      "\n",
      "  High performers (F1 > 0.9): 6 classes\n",
      "    ENVO:01000176: F1=1.000, support=9\n",
      "    ENVO:01000035: F1=1.000, support=9\n",
      "    ENVO:01000249: F1=1.000, support=2\n",
      "    ENVO:01000252: F1=0.955, support=124\n",
      "    ENVO:00000447: F1=0.944, support=47\n",
      "\n",
      "  Poor performers (F1 < 0.3): 4 classes\n",
      "    ENVO:01000196: F1=0.250, support=7\n",
      "    ENVO:01000219: F1=0.111, support=31\n",
      "    ENVO:01000221: F1=0.000, support=6\n",
      "    ENVO:01001834: F1=0.000, support=3\n",
      "\n",
      "  ⚠️  Classes with 0% F1 (completely failed): 2\n",
      "      These are likely rare classes that need more samples or parent grouping\n",
      "\n",
      "env_local_scale:\n",
      "  Total classes: 73\n",
      "  Macro avg F1: 0.644\n",
      "  Weighted avg F1: 0.756\n",
      "\n",
      "  High performers (F1 > 0.9): 22 classes\n",
      "    ENVO:00000033: F1=1.000, support=1\n",
      "    ENVO:00000039: F1=1.000, support=5\n",
      "    ENVO:00000469: F1=1.000, support=1\n",
      "    ENVO:00000266: F1=1.000, support=3\n",
      "    ENVO:01000044: F1=1.000, support=9\n",
      "\n",
      "  Poor performers (F1 < 0.3): 16 classes\n",
      "    ENVO:00000114: F1=0.297, support=29\n",
      "    ENVO:00005801: F1=0.286, support=30\n",
      "    ENVO:01000887: F1=0.250, support=2\n",
      "    ENVO:00000002: F1=0.000, support=1\n",
      "    ENVO:00000032: F1=0.000, support=2\n",
      "\n",
      "  ⚠️  Classes with 0% F1 (completely failed): 13\n",
      "      These are likely rare classes that need more samples or parent grouping\n",
      "\n",
      "env_medium:\n",
      "  Total classes: 47\n",
      "  Macro avg F1: 0.496\n",
      "  Weighted avg F1: 0.713\n",
      "\n",
      "  High performers (F1 > 0.9): 11 classes\n",
      "    ENVO:00002008: F1=1.000, support=3\n",
      "    ENVO:01001189: F1=1.000, support=3\n",
      "    ENVO:01001125: F1=1.000, support=1\n",
      "    ENVO:01000301: F1=1.000, support=4\n",
      "    ENVO:01000017: F1=1.000, support=6\n",
      "\n",
      "  Poor performers (F1 < 0.3): 18 classes\n",
      "    ENVO:00005802: F1=0.286, support=10\n",
      "    ENVO:02000059: F1=0.222, support=8\n",
      "    ENVO:00002259: F1=0.162, support=23\n",
      "    ENVO:01000349: F1=0.154, support=18\n",
      "    ENVO:00002042: F1=0.143, support=13\n",
      "\n",
      "  ⚠️  Classes with 0% F1 (completely failed): 13\n",
      "      These are likely rare classes that need more samples or parent grouping\n",
      "\n",
      "\n",
      "================================================================================\n",
      "PER-CLASS PERFORMANCE: NMDC\n",
      "================================================================================\n",
      "\n",
      "\n",
      "env_broad_scale:\n",
      "  Total classes: 10\n",
      "  Macro avg F1: 0.619\n",
      "  Weighted avg F1: 0.917\n",
      "\n",
      "  High performers (F1 > 0.9): 4 classes\n",
      "    ENVO:01001442: F1=1.000, support=3\n",
      "    ENVO:01000221: F1=1.000, support=36\n",
      "    ENVO:00000446: F1=0.964, support=760\n",
      "    ENVO:01000252: F1=0.939, support=35\n",
      "\n",
      "  Poor performers (F1 < 0.3): 3 classes\n",
      "    ENVO:03605008: F1=0.100, support=19\n",
      "    ENVO:01000219: F1=0.000, support=1\n",
      "    ENVO:01001837: F1=0.000, support=4\n",
      "\n",
      "  ⚠️  Classes with 0% F1 (completely failed): 2\n",
      "      These are likely rare classes that need more samples or parent grouping\n",
      "\n",
      "env_local_scale:\n",
      "  Total classes: 35\n",
      "  Macro avg F1: 0.538\n",
      "  Weighted avg F1: 0.827\n",
      "\n",
      "  High performers (F1 > 0.9): 15 classes\n",
      "    ENVO:01000894: F1=1.000, support=9\n",
      "    ENVO:01001442: F1=1.000, support=3\n",
      "    ENVO:00000469: F1=1.000, support=5\n",
      "    ENVO:01001206: F1=1.000, support=1\n",
      "    ENVO:01000891: F1=1.000, support=16\n",
      "\n",
      "  Poor performers (F1 < 0.3): 15 classes\n",
      "    ENVO:01001057: F1=0.255, support=23\n",
      "    ENVO:03605007: F1=0.182, support=17\n",
      "    ENVO:03600095: F1=0.143, support=8\n",
      "    ENVO:00005801: F1=0.073, support=25\n",
      "    ENVO:00000011: F1=0.000, support=30\n",
      "\n",
      "  ⚠️  Classes with 0% F1 (completely failed): 11\n",
      "      These are likely rare classes that need more samples or parent grouping\n",
      "\n",
      "env_medium:\n",
      "  Total classes: 18\n",
      "  Macro avg F1: 0.423\n",
      "  Weighted avg F1: 0.784\n",
      "\n",
      "  High performers (F1 > 0.9): 6 classes\n",
      "    ENVO:01000599: F1=1.000, support=4\n",
      "    ENVO:00005755: F1=1.000, support=2\n",
      "    ENVO:01001001: F1=1.000, support=2\n",
      "    ENVO:00005749: F1=0.972, support=37\n",
      "    ENVO:04000007: F1=0.933, support=32\n",
      "\n",
      "  Poor performers (F1 < 0.3): 11 classes\n",
      "    ENVO:01000349: F1=0.259, support=24\n",
      "    ENVO:03605004: F1=0.250, support=4\n",
      "    ENVO:03605001: F1=0.235, support=14\n",
      "    ENVO:00005802: F1=0.189, support=35\n",
      "    ENVO:03605006: F1=0.071, support=27\n",
      "\n",
      "  ⚠️  Classes with 0% F1 (completely failed): 6\n",
      "      These are likely rare classes that need more samples or parent grouping\n"
     ]
    }
   ],
   "execution_count": 19
  },
  {
   "cell_type": "markdown",
   "source": "## Deduplication Impact Analysis",
   "metadata": {}
  },
  {
   "cell_type": "code",
   "source": "# Train models on non-deduplicated data\nall_results_no_dedup = {}\nfor source_name, df in datasets_no_dedup.items():\n    all_results_no_dedup[source_name] = analyze_source(df, f\"{source_name}-NoDedup\")",
   "metadata": {
    "ExecuteTime": {
     "end_time": "2025-10-08T19:34:38.495229Z",
     "start_time": "2025-10-08T19:34:38.165385Z"
    }
   },
   "outputs": [
    {
     "ename": "NameError",
     "evalue": "name 'datasets_no_dedup' is not defined",
     "output_type": "error",
     "traceback": [
      "\u001B[31m---------------------------------------------------------------------------\u001B[39m",
      "\u001B[31mNameError\u001B[39m                                 Traceback (most recent call last)",
      "\u001B[36mCell\u001B[39m\u001B[36m \u001B[39m\u001B[32mIn[20]\u001B[39m\u001B[32m, line 3\u001B[39m\n\u001B[32m      1\u001B[39m \u001B[38;5;66;03m# Train models on non-deduplicated data\u001B[39;00m\n\u001B[32m      2\u001B[39m all_results_no_dedup = {}\n\u001B[32m----> \u001B[39m\u001B[32m3\u001B[39m \u001B[38;5;28;01mfor\u001B[39;00m source_name, df \u001B[38;5;129;01min\u001B[39;00m \u001B[43mdatasets_no_dedup\u001B[49m.items():\n\u001B[32m      4\u001B[39m     all_results_no_dedup[source_name] = analyze_source(df, \u001B[33mf\u001B[39m\u001B[33m\"\u001B[39m\u001B[38;5;132;01m{\u001B[39;00msource_name\u001B[38;5;132;01m}\u001B[39;00m\u001B[33m-NoDedup\u001B[39m\u001B[33m\"\u001B[39m)\n",
      "\u001B[31mNameError\u001B[39m: name 'datasets_no_dedup' is not defined"
     ]
    }
   ],
   "execution_count": 20
  },
  {
   "cell_type": "code",
   "source": "# Import dedup comparison function\nfrom env_embeddings.rf_analysis import create_dedup_comparison_table",
   "metadata": {},
   "outputs": [],
   "execution_count": null
  },
  {
   "cell_type": "code",
   "source": "# Create comparison table\ndedup_comparison = create_dedup_comparison_table(all_results, all_results_no_dedup)",
   "metadata": {},
   "outputs": [],
   "execution_count": null
  },
  {
   "cell_type": "code",
   "source": "# Display comparison\nprint(\"\\nDeduplication Impact Comparison:\")\nprint(dedup_comparison.to_string(index=False))",
   "metadata": {},
   "outputs": [],
   "execution_count": null
  },
  {
   "cell_type": "markdown",
   "source": "## Visualization: Deduplication Impact",
   "metadata": {}
  },
  {
   "metadata": {},
   "cell_type": "code",
   "outputs": [],
   "execution_count": null,
   "source": [
    "fig, (ax1, ax2) = plt.subplots(1, 2, figsize=(14, 6))\n",
    "\n",
    "# Accuracy comparison\n",
    "x = range(len(dedup_comparison))\n",
    "width = 0.35\n",
    "ax1.bar([i - width/2 for i in x], dedup_comparison['NoDedup_Acc'],\n",
    "        width, label='With Duplicates', alpha=0.7)\n",
    "ax1.bar([i + width/2 for i in x], dedup_comparison['Dedup_Acc'],\n",
    "        width, label='Deduplicated', alpha=0.7)\n",
    "ax1.set_ylabel('Test Accuracy')\n",
    "ax1.set_title('Accuracy: Deduplicated vs With Duplicates')\n",
    "ax1.set_xticks(x)\n",
    "ax1.set_xticklabels([f\"{row['Source']}\\n{row['Scale']}\"\n",
    "                      for _, row in dedup_comparison.iterrows()], rotation=45, ha='right')\n",
    "ax1.legend()\n",
    "ax1.grid(axis='y', alpha=0.3)\n",
    "\n",
    "# Overfitting comparison\n",
    "ax2.bar([i - width/2 for i in x], dedup_comparison['NoDedup_Overfit'],\n",
    "        width, label='With Duplicates', alpha=0.7)\n",
    "ax2.bar([i + width/2 for i in x], dedup_comparison['Dedup_Overfit'],\n",
    "        width, label='Deduplicated', alpha=0.7)\n",
    "ax2.set_ylabel('Overfitting (Train - Test)')\n",
    "ax2.set_title('Overfitting: Deduplicated vs With Duplicates')\n",
    "ax2.set_xticks(x)\n",
    "ax2.set_xticklabels([f\"{row['Source']}\\n{row['Scale']}\"\n",
    "                      for _, row in dedup_comparison.iterrows()], rotation=45, ha='right')\n",
    "ax2.axhline(y=0.1, color='red', linestyle='--', alpha=0.5, label='High (>0.1)')\n",
    "ax2.legend()\n",
    "ax2.grid(axis='y', alpha=0.3)\n",
    "\n",
    "plt.tight_layout()\n",
    "plt.show()"
   ]
  },
  {
   "cell_type": "markdown",
   "source": "## Per-Class Performance Analysis",
   "metadata": {}
  },
  {
   "metadata": {},
   "cell_type": "code",
   "source": "",
   "outputs": [],
   "execution_count": null
  }
 ],
 "metadata": {
  "kernelspec": {
   "display_name": "Python 3",
   "language": "python",
   "name": "python3"
  },
  "language_info": {
   "name": "python",
   "version": "3.10.0"
  }
 },
 "nbformat": 4,
 "nbformat_minor": 4
}
