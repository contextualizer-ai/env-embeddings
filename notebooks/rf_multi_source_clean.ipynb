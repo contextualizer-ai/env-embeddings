{
 "cells": [
  {
   "metadata": {},
   "cell_type": "markdown",
   "source": "## Setup"
  },
  {
   "metadata": {
    "ExecuteTime": {
     "end_time": "2025-10-08T21:40:18.396868Z",
     "start_time": "2025-10-08T21:40:18.393648Z"
    }
   },
   "cell_type": "code",
   "source": [
    "from pathlib import Path\n",
    "import sys"
   ],
   "outputs": [],
   "execution_count": 1
  },
  {
   "cell_type": "code",
   "metadata": {
    "ExecuteTime": {
     "end_time": "2025-10-08T21:40:18.451387Z",
     "start_time": "2025-10-08T21:40:18.446881Z"
    }
   },
   "source": [
    "# Add src to path\n",
    "sys.path.insert(0, str(Path('../src').absolute()))"
   ],
   "outputs": [],
   "execution_count": 2
  },
  {
   "cell_type": "code",
   "metadata": {
    "ExecuteTime": {
     "end_time": "2025-10-08T21:40:19.714266Z",
     "start_time": "2025-10-08T21:40:18.473795Z"
    }
   },
   "source": [
    "from env_embeddings.rf_analysis import (\n",
    "    load_source_data,\n",
    "    analyze_source,\n",
    "    create_comparison_table,\n",
    "    print_summary,\n",
    ")"
   ],
   "outputs": [],
   "execution_count": 3
  },
  {
   "cell_type": "code",
   "metadata": {
    "ExecuteTime": {
     "end_time": "2025-10-08T21:40:19.966960Z",
     "start_time": "2025-10-08T21:40:19.962372Z"
    }
   },
   "source": [
    "import matplotlib.pyplot as plt\n",
    "import seaborn as sns"
   ],
   "outputs": [],
   "execution_count": 4
  },
  {
   "cell_type": "code",
   "metadata": {
    "ExecuteTime": {
     "end_time": "2025-10-08T21:40:19.998836Z",
     "start_time": "2025-10-08T21:40:19.990752Z"
    }
   },
   "source": [
    "# Configure plotting\n",
    "plt.style.use('default')\n",
    "sns.set_palette(\"husl\")\n",
    "plt.rcParams['figure.figsize'] = (12, 6)\n",
    "plt.rcParams['font.size'] = 11"
   ],
   "outputs": [],
   "execution_count": 5
  },
  {
   "cell_type": "markdown",
   "metadata": {},
   "source": [
    "## Load Data Sources"
   ]
  },
  {
   "metadata": {
    "ExecuteTime": {
     "end_time": "2025-10-08T21:40:20.074964Z",
     "start_time": "2025-10-08T21:40:20.070051Z"
    }
   },
   "cell_type": "code",
   "source": [
    "# Define data sources (GOLD and NMDC first, NCBI later)\n",
    "SOURCES = {\n",
    "    'GOLD': Path('../data/gold_flattened_biosamples_for_env_embeddings_202510061108_complete.csv'),\n",
    "    'NMDC': Path('../data/nmdc_flattened_biosample_for_env_embeddings_202510061052_complete.csv'),\n",
    "    'NCBI-partial': Path('../data/ncbi_flattened_biosamples_for_env_embeddings_202510061108_normalized_complete.csv'),\n",
    "}"
   ],
   "outputs": [],
   "execution_count": 6
  },
  {
   "metadata": {
    "ExecuteTime": {
     "end_time": "2025-10-08T21:44:51.680649Z",
     "start_time": "2025-10-08T21:40:20.104190Z"
    }
   },
   "cell_type": "code",
   "source": "# Load all data WITHOUT deduplication first (more efficient)\ndatasets_no_dedup = {}\nfor source_name, file_path in SOURCES.items():\n    df = load_source_data(file_path, source_name, deduplicate=False)\n    if df is not None:\n        datasets_no_dedup[source_name] = df",
   "outputs": [
    {
     "name": "stdout",
     "output_type": "stream",
     "text": [
      "\n",
      "============================================================\n",
      "Loading GOLD\n",
      "============================================================\n",
      "  Loaded: 10,401 rows\n",
      "  Complete data: 10,401 rows\n",
      "  Valid embeddings: 10,401 rows\n",
      "\n",
      "  ENVO scale class counts:\n",
      "    env_broad_scale     :   40 classes\n",
      "    env_local_scale     :  139 classes\n",
      "    env_medium          :   78 classes\n",
      "\n",
      "============================================================\n",
      "Loading NMDC\n",
      "============================================================\n",
      "  Loaded: 8,121 rows\n",
      "  Complete data: 8,121 rows\n",
      "  Valid embeddings: 8,121 rows\n",
      "\n",
      "  ENVO scale class counts:\n",
      "    env_broad_scale     :   19 classes\n",
      "    env_local_scale     :   51 classes\n",
      "    env_medium          :   30 classes\n",
      "\n",
      "============================================================\n",
      "Loading NCBI-partial\n",
      "============================================================\n",
      "  Loaded: 382,955 rows\n",
      "  Complete data: 382,955 rows\n",
      "  Valid embeddings: 382,955 rows\n",
      "\n",
      "  ENVO scale class counts:\n",
      "    env_broad_scale     :  570 classes\n",
      "    env_local_scale     :  829 classes\n",
      "    env_medium          :  562 classes\n"
     ]
    }
   ],
   "execution_count": 7
  },
  {
   "cell_type": "code",
   "source": [
    "# Create deduplicated versions from loaded data (in-memory, no re-reading CSV)\n",
    "datasets_dedup = {}\n",
    "for source_name, df in datasets_no_dedup.items():\n",
    "    print(f\"\\nDeduplicating {source_name}...\")\n",
    "    initial_count = len(df)\n",
    "    df_dedup = df.drop_duplicates(\n",
    "        subset=[\n",
    "            \"latitude\",\n",
    "            \"longitude\",\n",
    "            \"collection_date\",\n",
    "            \"env_broad_scale\",\n",
    "            \"env_local_scale\",\n",
    "            \"env_medium\",\n",
    "        ],\n",
    "        keep=\"first\",\n",
    "    ).copy()\n",
    "    removed = initial_count - len(df_dedup)\n",
    "    pct_removed = removed / initial_count * 100\n",
    "    print(f\"  {len(df_dedup):,} rows (removed {removed:,} = {pct_removed:.1f}%)\")\n",
    "    datasets_dedup[source_name] = df_dedup"
   ],
   "metadata": {
    "ExecuteTime": {
     "end_time": "2025-10-08T21:44:51.930386Z",
     "start_time": "2025-10-08T21:44:51.747051Z"
    }
   },
   "outputs": [
    {
     "name": "stdout",
     "output_type": "stream",
     "text": [
      "\n",
      "Deduplicating GOLD...\n",
      "  4,198 rows (removed 6,203 = 59.6%)\n",
      "\n",
      "Deduplicating NMDC...\n",
      "  4,646 rows (removed 3,475 = 42.8%)\n",
      "\n",
      "Deduplicating NCBI-partial...\n",
      "  73,197 rows (removed 309,758 = 80.9%)\n"
     ]
    }
   ],
   "execution_count": 8
  },
  {
   "cell_type": "markdown",
   "metadata": {},
   "source": "# Remove NCBI from no-dedup version (too large to train on 382K rows)\nif 'NCBI-partial' in datasets_no_dedup:\n    print(\"\\nRemoving NCBI-partial from non-dedup version (too large)\")\n    del datasets_no_dedup['NCBI-partial']"
  },
  {
   "cell_type": "code",
   "source": "# Load non-deduplicated data for comparison (skip NCBI - too large)\ndatasets_no_dedup = {}\nfor source_name, file_path in SOURCES.items():\n    if source_name == 'NCBI-partial':\n        print(f\"\\nSkipping {source_name} for non-dedup version (too large)\")\n        continue\n    df = load_source_data(file_path, source_name, deduplicate=False)\n    if df is not None:\n        datasets_no_dedup[source_name] = df",
   "metadata": {
    "ExecuteTime": {
     "end_time": "2025-10-08T21:45:02.919376Z",
     "start_time": "2025-10-08T21:44:51.966918Z"
    }
   },
   "outputs": [
    {
     "name": "stdout",
     "output_type": "stream",
     "text": [
      "\n",
      "============================================================\n",
      "Loading GOLD\n",
      "============================================================\n",
      "  Loaded: 10,401 rows\n",
      "  Complete data: 10,401 rows\n",
      "  Valid embeddings: 10,401 rows\n",
      "\n",
      "  ENVO scale class counts:\n",
      "    env_broad_scale     :   40 classes\n",
      "    env_local_scale     :  139 classes\n",
      "    env_medium          :   78 classes\n",
      "\n",
      "============================================================\n",
      "Loading NMDC\n",
      "============================================================\n",
      "  Loaded: 8,121 rows\n",
      "  Complete data: 8,121 rows\n",
      "  Valid embeddings: 8,121 rows\n",
      "\n",
      "  ENVO scale class counts:\n",
      "    env_broad_scale     :   19 classes\n",
      "    env_local_scale     :   51 classes\n",
      "    env_medium          :   30 classes\n",
      "\n",
      "Skipping NCBI-partial for non-dedup version (too large)\n"
     ]
    }
   ],
   "execution_count": 9
  },
  {
   "cell_type": "code",
   "metadata": {
    "ExecuteTime": {
     "end_time": "2025-10-08T21:46:42.219342Z",
     "start_time": "2025-10-08T21:45:02.954321Z"
    }
   },
   "source": "# Train models for all sources (deduplicated)\nall_results = {}\nfor source_name, df in datasets_dedup.items():\n    all_results[source_name] = analyze_source(df, source_name)",
   "outputs": [
    {
     "name": "stdout",
     "output_type": "stream",
     "text": [
      "\n",
      "------------------------------------------------------------\n",
      "Training models: GOLD\n",
      "------------------------------------------------------------\n",
      "\n",
      "  env_broad_scale...\n",
      "    Filtered: removed 14 rare classes (29 samples with <5 per class)\n",
      "    Removed classes (14):\n",
      "      - ENVO:01001830: 4 samples\n",
      "      - ENVO:01000216: 4 samples\n",
      "      - ENVO:01000030: 3 samples\n",
      "      - ENVO:01000208: 3 samples\n",
      "      - ENVO:01001838: 2 samples\n",
      "      - ENVO:01000048: 2 samples\n",
      "      - ENVO:01001836: 2 samples\n",
      "      - ENVO:01001831: 2 samples\n",
      "      - ENVO:01000247: 2 samples\n",
      "      - ENVO:01000127: 1 samples\n",
      "      ... and 4 more\n"
     ]
    },
    {
     "name": "stderr",
     "output_type": "stream",
     "text": [
      "/Users/MAM/Documents/gitrepos/env-embeddings/.venv/lib/python3.11/site-packages/sklearn/model_selection/_split.py:811: UserWarning: The least populated class in y has only 3 members, which is less than n_splits=5.\n",
      "  warnings.warn(\n"
     ]
    },
    {
     "name": "stdout",
     "output_type": "stream",
     "text": [
      "    Classes:  26 | Test acc: 0.826 | CV: 0.837±0.020 | Overfit: +0.086\n",
      "\n",
      "  env_local_scale...\n",
      "    Filtered: removed 63 rare classes (120 samples with <5 per class)\n",
      "    Removed classes (63):\n",
      "      - ENVO:00000058: 4 samples\n",
      "      - ENVO:00000533: 4 samples\n",
      "      - ENVO:00000309: 4 samples\n",
      "      - ENVO:00000150: 4 samples\n",
      "      - ENVO:00000248: 4 samples\n",
      "      - ENVO:00000444: 4 samples\n",
      "      - ENVO:00001997: 4 samples\n",
      "      - ENVO:01000159: 4 samples\n",
      "      - ENVO:00000014: 4 samples\n",
      "      - ENVO:00000055: 4 samples\n",
      "      ... and 53 more\n"
     ]
    },
    {
     "name": "stderr",
     "output_type": "stream",
     "text": [
      "/Users/MAM/Documents/gitrepos/env-embeddings/.venv/lib/python3.11/site-packages/sklearn/model_selection/_split.py:811: UserWarning: The least populated class in y has only 2 members, which is less than n_splits=5.\n",
      "  warnings.warn(\n"
     ]
    },
    {
     "name": "stdout",
     "output_type": "stream",
     "text": [
      "    Classes:  76 | Test acc: 0.775 | CV: 0.748±0.013 | Overfit: +0.127\n",
      "\n",
      "  env_medium...\n",
      "    Filtered: removed 29 rare classes (51 samples with <5 per class)\n",
      "    Removed classes (29):\n",
      "      - ENVO:00001995: 4 samples\n",
      "      - ENVO:01000358: 4 samples\n",
      "      - ENVO:01001206: 4 samples\n",
      "      - ENVO:00005754: 3 samples\n",
      "      - ENVO:00002263: 3 samples\n",
      "      - ENVO:01000134: 3 samples\n",
      "      - ENVO:00005741: 2 samples\n",
      "      - ENVO:01001185: 2 samples\n",
      "      - ENVO:00005742: 2 samples\n",
      "      - ENVO:00002258: 2 samples\n",
      "      ... and 19 more\n"
     ]
    },
    {
     "name": "stderr",
     "output_type": "stream",
     "text": [
      "/Users/MAM/Documents/gitrepos/env-embeddings/.venv/lib/python3.11/site-packages/sklearn/model_selection/_split.py:811: UserWarning: The least populated class in y has only 3 members, which is less than n_splits=5.\n",
      "  warnings.warn(\n"
     ]
    },
    {
     "name": "stdout",
     "output_type": "stream",
     "text": [
      "    Classes:  49 | Test acc: 0.747 | CV: 0.728±0.014 | Overfit: +0.120\n",
      "\n",
      "------------------------------------------------------------\n",
      "Training models: NMDC\n",
      "------------------------------------------------------------\n",
      "\n",
      "  env_broad_scale...\n",
      "    Filtered: removed 7 rare classes (15 samples with <5 per class)\n",
      "    Removed classes (7):\n",
      "      - ENVO:01000174: 4 samples\n",
      "      - ENVO:01000215: 3 samples\n",
      "      - ENVO:01000189: 2 samples\n",
      "      - ENVO:01000196: 2 samples\n",
      "      - ENVO:01000216: 2 samples\n",
      "      - ENVO:01000247: 1 samples\n",
      "      - ENVO:01000049: 1 samples\n"
     ]
    },
    {
     "name": "stderr",
     "output_type": "stream",
     "text": [
      "/Users/MAM/Documents/gitrepos/env-embeddings/.venv/lib/python3.11/site-packages/sklearn/model_selection/_split.py:811: UserWarning: The least populated class in y has only 4 members, which is less than n_splits=5.\n",
      "  warnings.warn(\n"
     ]
    },
    {
     "name": "stdout",
     "output_type": "stream",
     "text": [
      "    Classes:  12 | Test acc: 0.933 | CV: 0.929±0.010 | Overfit: +0.024\n",
      "\n",
      "  env_local_scale...\n",
      "    Filtered: removed 15 rare classes (28 samples with <5 per class)\n",
      "    Removed classes (15):\n",
      "      - ENVO:00002130: 4 samples\n",
      "      - ENVO:00002132: 3 samples\n",
      "      - ENVO:03600018: 2 samples\n",
      "      - ENVO:00000083: 2 samples\n",
      "      - ENVO:00000182: 2 samples\n",
      "      - ENVO:00000444: 2 samples\n",
      "      - ENVO:00000086: 2 samples\n",
      "      - ENVO:03600011: 2 samples\n",
      "      - ENVO:00000305: 2 samples\n",
      "      - ENVO:00000516: 2 samples\n",
      "      ... and 5 more\n"
     ]
    },
    {
     "name": "stderr",
     "output_type": "stream",
     "text": [
      "/Users/MAM/Documents/gitrepos/env-embeddings/.venv/lib/python3.11/site-packages/sklearn/model_selection/_split.py:811: UserWarning: The least populated class in y has only 2 members, which is less than n_splits=5.\n",
      "  warnings.warn(\n"
     ]
    },
    {
     "name": "stdout",
     "output_type": "stream",
     "text": [
      "    Classes:  36 | Test acc: 0.843 | CV: 0.855±0.009 | Overfit: +0.096\n",
      "\n",
      "  env_medium...\n",
      "    Filtered: removed 11 rare classes (21 samples with <5 per class)\n",
      "    Removed classes (11):\n",
      "      - ENVO:00005761: 4 samples\n",
      "      - ENVO:03605002: 3 samples\n",
      "      - ENVO:00005750: 3 samples\n",
      "      - ENVO:00002275: 2 samples\n",
      "      - ENVO:00005781: 2 samples\n",
      "      - ENVO:03605003: 2 samples\n",
      "      - ENVO:00005760: 1 samples\n",
      "      - ENVO:00005773: 1 samples\n",
      "      - ENVO:01000155: 1 samples\n",
      "      - ENVO:00005801: 1 samples\n",
      "      ... and 1 more\n"
     ]
    },
    {
     "name": "stderr",
     "output_type": "stream",
     "text": [
      "/Users/MAM/Documents/gitrepos/env-embeddings/.venv/lib/python3.11/site-packages/sklearn/model_selection/_split.py:811: UserWarning: The least populated class in y has only 2 members, which is less than n_splits=5.\n",
      "  warnings.warn(\n"
     ]
    },
    {
     "name": "stdout",
     "output_type": "stream",
     "text": [
      "    Classes:  19 | Test acc: 0.824 | CV: 0.861±0.008 | Overfit: +0.092\n",
      "\n",
      "------------------------------------------------------------\n",
      "Training models: NCBI-partial\n",
      "------------------------------------------------------------\n",
      "\n",
      "  env_broad_scale...\n",
      "    Filtered: removed 189 rare classes (392 samples with <5 per class)\n",
      "    Removed classes (189):\n",
      "      - ENVO:00005749: 4 samples\n",
      "      - ENVO:01000604: 4 samples\n",
      "      - ENVO:01000906: 4 samples\n",
      "      - ENVO:01000390: 4 samples\n",
      "      - ENVO:00000303: 4 samples\n",
      "      - ENVO:00000192: 4 samples\n",
      "      - ENVO:00000402: 4 samples\n",
      "      - ENVO:00002272: 4 samples\n",
      "      - ENVO:01000756: 4 samples\n",
      "      - ENVO:01000213: 4 samples\n",
      "      ... and 179 more\n"
     ]
    },
    {
     "name": "stderr",
     "output_type": "stream",
     "text": [
      "/Users/MAM/Documents/gitrepos/env-embeddings/.venv/lib/python3.11/site-packages/sklearn/model_selection/_split.py:811: UserWarning: The least populated class in y has only 3 members, which is less than n_splits=5.\n",
      "  warnings.warn(\n"
     ]
    },
    {
     "name": "stdout",
     "output_type": "stream",
     "text": [
      "    Classes: 381 | Test acc: 0.578 | CV: 0.582±0.004 | Overfit: +0.046\n",
      "\n",
      "  env_local_scale...\n",
      "    Filtered: removed 279 rare classes (570 samples with <5 per class)\n",
      "    Removed classes (279):\n",
      "      - ENVO:00000393: 4 samples\n",
      "      - ENVO:01000189: 4 samples\n",
      "      - ENVO:01001289: 4 samples\n",
      "      - ENVO:03600071: 4 samples\n",
      "      - ENVO:01001243: 4 samples\n",
      "      - ENVO:01000857: 4 samples\n",
      "      - ENVO:00000369: 4 samples\n",
      "      - ENVO:01000373: 4 samples\n",
      "      - ENVO:02000047: 4 samples\n",
      "      - ENVO:01001226: 4 samples\n",
      "      ... and 269 more\n"
     ]
    },
    {
     "name": "stderr",
     "output_type": "stream",
     "text": [
      "/Users/MAM/Documents/gitrepos/env-embeddings/.venv/lib/python3.11/site-packages/sklearn/model_selection/_split.py:811: UserWarning: The least populated class in y has only 2 members, which is less than n_splits=5.\n",
      "  warnings.warn(\n"
     ]
    },
    {
     "name": "stdout",
     "output_type": "stream",
     "text": [
      "    Classes: 550 | Test acc: 0.574 | CV: 0.577±0.010 | Overfit: +0.056\n",
      "\n",
      "  env_medium...\n",
      "    Filtered: removed 220 rare classes (399 samples with <5 per class)\n",
      "    Removed classes (220):\n",
      "      - ENVO:00005747: 4 samples\n",
      "      - ENVO:00000223: 4 samples\n",
      "      - ENVO:00000101: 4 samples\n",
      "      - ENVO:01000549: 4 samples\n",
      "      - ENVO:00000382: 4 samples\n",
      "      - ENVO:00005777: 4 samples\n",
      "      - ENVO:01000022: 4 samples\n",
      "      - ENVO:01000049: 4 samples\n",
      "      - ENVO:01000034: 4 samples\n",
      "      - ENVO:02000051: 4 samples\n",
      "      ... and 210 more\n"
     ]
    },
    {
     "name": "stderr",
     "output_type": "stream",
     "text": [
      "/Users/MAM/Documents/gitrepos/env-embeddings/.venv/lib/python3.11/site-packages/sklearn/model_selection/_split.py:811: UserWarning: The least populated class in y has only 3 members, which is less than n_splits=5.\n",
      "  warnings.warn(\n"
     ]
    },
    {
     "name": "stdout",
     "output_type": "stream",
     "text": [
      "    Classes: 342 | Test acc: 0.544 | CV: 0.545±0.005 | Overfit: +0.028\n"
     ]
    }
   ],
   "execution_count": 10
  },
  {
   "cell_type": "markdown",
   "metadata": {},
   "source": [
    "## Results Summary"
   ]
  },
  {
   "cell_type": "code",
   "metadata": {
    "ExecuteTime": {
     "end_time": "2025-10-08T21:46:42.264108Z",
     "start_time": "2025-10-08T21:46:42.259246Z"
    }
   },
   "source": [
    "# Create comparison table\n",
    "comparison_df = create_comparison_table(all_results)"
   ],
   "outputs": [],
   "execution_count": 11
  },
  {
   "cell_type": "code",
   "metadata": {
    "ExecuteTime": {
     "end_time": "2025-10-08T21:46:42.423570Z",
     "start_time": "2025-10-08T21:46:42.418401Z"
    }
   },
   "source": [
    "print(\"\\nDetailed Results:\")\n",
    "print(comparison_df.to_string(index=False))"
   ],
   "outputs": [
    {
     "name": "stdout",
     "output_type": "stream",
     "text": [
      "\n",
      "Detailed Results:\n",
      "      Source       Scale  Classes  Samples  Test_Acc  CV_Mean   CV_Std  Overfitting\n",
      "        GOLD broad_scale       26     4169  0.826139 0.836882 0.009827     0.086005\n",
      "        GOLD local_scale       76     4078  0.774510 0.747700 0.006497     0.127391\n",
      "        GOLD      medium       49     4147  0.746988 0.728370 0.006968     0.120362\n",
      "        NMDC broad_scale       12     4631  0.933118 0.929268 0.004996     0.024496\n",
      "        NMDC local_scale       36     4618  0.843074 0.854631 0.004279     0.095746\n",
      "        NMDC      medium       19     4625  0.823784 0.861351 0.004152     0.091892\n",
      "NCBI-partial broad_scale      381    72805  0.577502 0.582326 0.002064     0.046288\n",
      "NCBI-partial local_scale      550    72627  0.574074 0.576840 0.004931     0.055554\n",
      "NCBI-partial      medium      342    72798  0.544299 0.545091 0.002699     0.027698\n"
     ]
    }
   ],
   "execution_count": 12
  },
  {
   "cell_type": "code",
   "metadata": {
    "ExecuteTime": {
     "end_time": "2025-10-08T21:46:42.546592Z",
     "start_time": "2025-10-08T21:46:42.531820Z"
    }
   },
   "source": [
    "# Print actionable summary\n",
    "print_summary(comparison_df)"
   ],
   "outputs": [
    {
     "name": "stdout",
     "output_type": "stream",
     "text": [
      "\n",
      "\n",
      "================================================================================\n",
      "SUMMARY: Random Forest ENVO Prediction Performance\n",
      "================================================================================\n",
      "\n",
      "Overall mean test accuracy: 0.738\n",
      "\n",
      "Best:  NMDC   broad_scale  = 0.933\n",
      "Worst: NCBI-partial medium       = 0.544\n",
      "\n",
      "Performance by source:\n",
      "  GOLD  : 0.783 avg, +0.111 overfit\n",
      "  NMDC  : 0.867 avg, +0.071 overfit\n",
      "  NCBI-partial: 0.565 avg, +0.043 overfit\n",
      "\n",
      "Performance by scale:\n",
      "  broad_scale : 0.779 avg, 140 avg classes\n",
      "  local_scale : 0.731 avg, 221 avg classes\n",
      "  medium      : 0.705 avg, 137 avg classes\n",
      "\n",
      "================================================================================\n",
      "ACTIONABLE INSIGHTS\n",
      "================================================================================\n",
      "\n",
      "~ Satellite embeddings have MODERATE predictive power\n",
      "⚠️  Moderate overfitting (max=0.127)\n",
      "\n",
      "⚠️  Large variation across sources (std=0.156) - data quality differs\n"
     ]
    }
   ],
   "execution_count": 13
  },
  {
   "cell_type": "markdown",
   "metadata": {},
   "source": [
    "## Visualization: Test Accuracy by Scale"
   ]
  },
  {
   "cell_type": "code",
   "metadata": {
    "ExecuteTime": {
     "end_time": "2025-10-08T21:46:43.022543Z",
     "start_time": "2025-10-08T21:46:42.659574Z"
    }
   },
   "source": [
    "fig, ax = plt.subplots(figsize=(10, 6))\n",
    "\n",
    "for source in comparison_df['Source'].unique():\n",
    "    data = comparison_df[comparison_df['Source'] == source]\n",
    "    ax.plot(data['Scale'], data['Test_Acc'],\n",
    "            marker='o', linewidth=2, markersize=10, label=source)\n",
    "\n",
    "ax.set_title('Test Accuracy by ENVO Scale', fontsize=14, fontweight='bold')\n",
    "ax.set_xlabel('ENVO Scale')\n",
    "ax.set_ylabel('Test Accuracy')\n",
    "ax.set_ylim(0, 1.0)\n",
    "ax.legend(fontsize=12)\n",
    "ax.grid(alpha=0.3)\n",
    "plt.tight_layout()\n",
    "plt.show()"
   ],
   "outputs": [
    {
     "data": {
      "text/plain": [
       "<Figure size 1000x600 with 1 Axes>"
      ],
      "image/png": "[encoded data removed]"
     },
     "metadata": {},
     "output_type": "display_data"
    }
   ],
   "execution_count": 14
  },
  {
   "cell_type": "markdown",
   "metadata": {},
   "source": [
    "## Visualization: Average Accuracy by Source"
   ]
  },
  {
   "cell_type": "code",
   "metadata": {
    "ExecuteTime": {
     "end_time": "2025-10-08T21:46:43.080337Z",
     "start_time": "2025-10-08T21:46:43.076743Z"
    }
   },
   "source": [
    "avg_by_source = comparison_df.groupby('Source')['Test_Acc'].mean()"
   ],
   "outputs": [],
   "execution_count": 15
  },
  {
   "cell_type": "code",
   "metadata": {
    "ExecuteTime": {
     "end_time": "2025-10-08T21:46:43.295159Z",
     "start_time": "2025-10-08T21:46:43.132781Z"
    }
   },
   "source": [
    "fig, ax = plt.subplots(figsize=(8, 6))\n",
    "bars = ax.bar(avg_by_source.index, avg_by_source.values,\n",
    "              alpha=0.7, edgecolor='black', linewidth=2)\n",
    "ax.set_title('Average Test Accuracy by Source', fontsize=14, fontweight='bold')\n",
    "ax.set_ylabel('Average Test Accuracy')\n",
    "ax.set_ylim(0, 1.0)\n",
    "ax.grid(axis='y', alpha=0.3)\n",
    "\n",
    "# Add value labels\n",
    "for bar in bars:\n",
    "    height = bar.get_height()\n",
    "    ax.text(bar.get_x() + bar.get_width()/2., height + 0.02,\n",
    "            f'{height:.3f}', ha='center', fontweight='bold', fontsize=12)\n",
    "\n",
    "plt.tight_layout()\n",
    "plt.show()"
   ],
   "outputs": [
    {
     "data": {
      "text/plain": [
       "<Figure size 800x600 with 1 Axes>"
      ],
      "image/png": "[encoded data removed]"
     },
     "metadata": {},
     "output_type": "display_data"
    }
   ],
   "execution_count": 16
  },
  {
   "cell_type": "markdown",
   "metadata": {},
   "source": [
    "## Visualization: Overfitting Check"
   ]
  },
  {
   "cell_type": "code",
   "metadata": {
    "ExecuteTime": {
     "end_time": "2025-10-08T21:46:43.559507Z",
     "start_time": "2025-10-08T21:46:43.335502Z"
    }
   },
   "source": [
    "fig, ax = plt.subplots(figsize=(10, 6))\n",
    "\n",
    "# Color bars by overfitting severity\n",
    "colors = ['red' if x > 0.1 else 'orange' if x > 0.05 else 'green'\n",
    "          for x in comparison_df['Overfitting'].values]\n",
    "\n",
    "x_labels = [f\"{row['Source']}\\n{row['Scale']}\"\n",
    "            for _, row in comparison_df.iterrows()]\n",
    "\n",
    "bars = ax.bar(range(len(comparison_df)), comparison_df['Overfitting'].values,\n",
    "              color=colors, alpha=0.7, edgecolor='black', linewidth=1.5)\n",
    "\n",
    "ax.set_xticks(range(len(comparison_df)))\n",
    "ax.set_xticklabels(x_labels, rotation=45, ha='right')\n",
    "ax.set_ylabel('Overfitting (Train - Test Accuracy)')\n",
    "ax.set_title('Overfitting Analysis', fontsize=14, fontweight='bold')\n",
    "ax.axhline(y=0.1, color='red', linestyle='--', alpha=0.5, label='High (>0.1)')\n",
    "ax.axhline(y=0.05, color='orange', linestyle='--', alpha=0.5, label='Moderate (>0.05)')\n",
    "ax.legend()\n",
    "ax.grid(axis='y', alpha=0.3)\n",
    "\n",
    "plt.tight_layout()\n",
    "plt.show()"
   ],
   "outputs": [
    {
     "data": {
      "text/plain": [
       "<Figure size 1000x600 with 1 Axes>"
      ],
      "image/png": "[encoded data removed]"
     },
     "metadata": {},
     "output_type": "display_data"
    }
   ],
   "execution_count": 17
  },
  {
   "cell_type": "markdown",
   "metadata": {},
   "source": [
    "## Save Results"
   ]
  },
  {
   "cell_type": "code",
   "metadata": {
    "ExecuteTime": {
     "end_time": "2025-10-08T21:46:43.603674Z",
     "start_time": "2025-10-08T21:46:43.599556Z"
    }
   },
   "source": [
    "output_dir = Path('../results/rf_multi_source')\n",
    "output_dir.mkdir(parents=True, exist_ok=True)"
   ],
   "outputs": [],
   "execution_count": 18
  },
  {
   "cell_type": "code",
   "metadata": {
    "ExecuteTime": {
     "end_time": "2025-10-08T21:46:43.663612Z",
     "start_time": "2025-10-08T21:46:43.652970Z"
    }
   },
   "source": [
    "output_file = output_dir / 'comparison_results.csv'\n",
    "comparison_df.to_csv(output_file, index=False)\n",
    "print(f\"Results saved to: {output_file}\")"
   ],
   "outputs": [
    {
     "name": "stdout",
     "output_type": "stream",
     "text": [
      "Results saved to: ../results/rf_multi_source/comparison_results.csv\n"
     ]
    }
   ],
   "execution_count": 19
  },
  {
   "cell_type": "code",
   "source": "# Import per-class performance function\nfrom env_embeddings.rf_analysis import print_class_performance",
   "metadata": {
    "ExecuteTime": {
     "end_time": "2025-10-08T21:46:43.708077Z",
     "start_time": "2025-10-08T21:46:43.705769Z"
    }
   },
   "outputs": [],
   "execution_count": 20
  },
  {
   "cell_type": "code",
   "source": "# Show per-class performance for each source\nfor source_name in all_results:\n    print_class_performance(all_results[source_name], source_name)",
   "metadata": {
    "ExecuteTime": {
     "end_time": "2025-10-08T21:46:43.782572Z",
     "start_time": "2025-10-08T21:46:43.753832Z"
    }
   },
   "outputs": [
    {
     "name": "stdout",
     "output_type": "stream",
     "text": [
      "\n",
      "\n",
      "================================================================================\n",
      "PER-CLASS PERFORMANCE: GOLD\n",
      "================================================================================\n",
      "\n",
      "\n",
      "env_broad_scale:\n",
      "  Total classes: 22\n",
      "  Macro avg F1: 0.663\n",
      "  Weighted avg F1: 0.804\n",
      "\n",
      "  High performers (F1 > 0.9): 6 classes\n",
      "    ENVO:01000176: F1=1.000, support=9\n",
      "    ENVO:01000035: F1=1.000, support=9\n",
      "    ENVO:01000249: F1=1.000, support=2\n",
      "    ENVO:01000252: F1=0.955, support=124\n",
      "    ENVO:00000447: F1=0.944, support=47\n",
      "\n",
      "  Poor performers (F1 < 0.3): 4 classes\n",
      "    ENVO:01000196: F1=0.250, support=7\n",
      "    ENVO:01000219: F1=0.111, support=31\n",
      "    ENVO:01000221: F1=0.000, support=6\n",
      "    ENVO:01001834: F1=0.000, support=3\n",
      "\n",
      "  ⚠️  Classes with 0% F1 (completely failed): 2\n",
      "      These are likely rare classes that need more samples or parent grouping\n",
      "\n",
      "env_local_scale:\n",
      "  Total classes: 73\n",
      "  Macro avg F1: 0.644\n",
      "  Weighted avg F1: 0.756\n",
      "\n",
      "  High performers (F1 > 0.9): 22 classes\n",
      "    ENVO:00000033: F1=1.000, support=1\n",
      "    ENVO:00000039: F1=1.000, support=5\n",
      "    ENVO:00000469: F1=1.000, support=1\n",
      "    ENVO:00000266: F1=1.000, support=3\n",
      "    ENVO:01000044: F1=1.000, support=9\n",
      "\n",
      "  Poor performers (F1 < 0.3): 16 classes\n",
      "    ENVO:00000114: F1=0.297, support=29\n",
      "    ENVO:00005801: F1=0.286, support=30\n",
      "    ENVO:01000887: F1=0.250, support=2\n",
      "    ENVO:00000002: F1=0.000, support=1\n",
      "    ENVO:00000032: F1=0.000, support=2\n",
      "\n",
      "  ⚠️  Classes with 0% F1 (completely failed): 13\n",
      "      These are likely rare classes that need more samples or parent grouping\n",
      "\n",
      "env_medium:\n",
      "  Total classes: 47\n",
      "  Macro avg F1: 0.496\n",
      "  Weighted avg F1: 0.713\n",
      "\n",
      "  High performers (F1 > 0.9): 11 classes\n",
      "    ENVO:00002008: F1=1.000, support=3\n",
      "    ENVO:01001189: F1=1.000, support=3\n",
      "    ENVO:01001125: F1=1.000, support=1\n",
      "    ENVO:01000301: F1=1.000, support=4\n",
      "    ENVO:01000017: F1=1.000, support=6\n",
      "\n",
      "  Poor performers (F1 < 0.3): 18 classes\n",
      "    ENVO:00005802: F1=0.286, support=10\n",
      "    ENVO:02000059: F1=0.222, support=8\n",
      "    ENVO:00002259: F1=0.162, support=23\n",
      "    ENVO:01000349: F1=0.154, support=18\n",
      "    ENVO:00002042: F1=0.143, support=13\n",
      "\n",
      "  ⚠️  Classes with 0% F1 (completely failed): 13\n",
      "      These are likely rare classes that need more samples or parent grouping\n",
      "\n",
      "\n",
      "================================================================================\n",
      "PER-CLASS PERFORMANCE: NMDC\n",
      "================================================================================\n",
      "\n",
      "\n",
      "env_broad_scale:\n",
      "  Total classes: 10\n",
      "  Macro avg F1: 0.619\n",
      "  Weighted avg F1: 0.917\n",
      "\n",
      "  High performers (F1 > 0.9): 4 classes\n",
      "    ENVO:01001442: F1=1.000, support=3\n",
      "    ENVO:01000221: F1=1.000, support=36\n",
      "    ENVO:00000446: F1=0.964, support=760\n",
      "    ENVO:01000252: F1=0.939, support=35\n",
      "\n",
      "  Poor performers (F1 < 0.3): 3 classes\n",
      "    ENVO:03605008: F1=0.100, support=19\n",
      "    ENVO:01000219: F1=0.000, support=1\n",
      "    ENVO:01001837: F1=0.000, support=4\n",
      "\n",
      "  ⚠️  Classes with 0% F1 (completely failed): 2\n",
      "      These are likely rare classes that need more samples or parent grouping\n",
      "\n",
      "env_local_scale:\n",
      "  Total classes: 35\n",
      "  Macro avg F1: 0.538\n",
      "  Weighted avg F1: 0.827\n",
      "\n",
      "  High performers (F1 > 0.9): 15 classes\n",
      "    ENVO:01000894: F1=1.000, support=9\n",
      "    ENVO:01001442: F1=1.000, support=3\n",
      "    ENVO:00000469: F1=1.000, support=5\n",
      "    ENVO:01001206: F1=1.000, support=1\n",
      "    ENVO:01000891: F1=1.000, support=16\n",
      "\n",
      "  Poor performers (F1 < 0.3): 15 classes\n",
      "    ENVO:01001057: F1=0.255, support=23\n",
      "    ENVO:03605007: F1=0.182, support=17\n",
      "    ENVO:03600095: F1=0.143, support=8\n",
      "    ENVO:00005801: F1=0.073, support=25\n",
      "    ENVO:00000011: F1=0.000, support=30\n",
      "\n",
      "  ⚠️  Classes with 0% F1 (completely failed): 11\n",
      "      These are likely rare classes that need more samples or parent grouping\n",
      "\n",
      "env_medium:\n",
      "  Total classes: 18\n",
      "  Macro avg F1: 0.423\n",
      "  Weighted avg F1: 0.784\n",
      "\n",
      "  High performers (F1 > 0.9): 6 classes\n",
      "    ENVO:01000599: F1=1.000, support=4\n",
      "    ENVO:00005755: F1=1.000, support=2\n",
      "    ENVO:01001001: F1=1.000, support=2\n",
      "    ENVO:00005749: F1=0.972, support=37\n",
      "    ENVO:04000007: F1=0.933, support=32\n",
      "\n",
      "  Poor performers (F1 < 0.3): 11 classes\n",
      "    ENVO:01000349: F1=0.259, support=24\n",
      "    ENVO:03605004: F1=0.250, support=4\n",
      "    ENVO:03605001: F1=0.235, support=14\n",
      "    ENVO:00005802: F1=0.189, support=35\n",
      "    ENVO:03605006: F1=0.071, support=27\n",
      "\n",
      "  ⚠️  Classes with 0% F1 (completely failed): 6\n",
      "      These are likely rare classes that need more samples or parent grouping\n",
      "\n",
      "\n",
      "================================================================================\n",
      "PER-CLASS PERFORMANCE: NCBI-partial\n",
      "================================================================================\n",
      "\n",
      "\n",
      "env_broad_scale:\n",
      "  Total classes: 366\n",
      "  Macro avg F1: 0.283\n",
      "  Weighted avg F1: 0.561\n",
      "\n",
      "  High performers (F1 > 0.9): 27 classes\n",
      "    ENVO:01001794: F1=1.000, support=79\n",
      "    ENVO:01001304: F1=1.000, support=7\n",
      "    ENVO:01000267: F1=1.000, support=8\n",
      "    ENVO:01000220: F1=1.000, support=8\n",
      "    ENVO:00000142: F1=1.000, support=3\n",
      "\n",
      "  Poor performers (F1 < 0.3): 224 classes\n",
      "    ENVO:01001703: F1=0.286, support=6\n",
      "    ENVO:01000556: F1=0.286, support=6\n",
      "    ENVO:00000081: F1=0.286, support=30\n",
      "    ENVO:00000117: F1=0.286, support=6\n",
      "    ENVO:00000275: F1=0.286, support=6\n",
      "\n",
      "  ⚠️  Classes with 0% F1 (completely failed): 201\n",
      "      These are likely rare classes that need more samples or parent grouping\n",
      "\n",
      "env_local_scale:\n",
      "  Total classes: 515\n",
      "  Macro avg F1: 0.304\n",
      "  Weighted avg F1: 0.563\n",
      "\n",
      "  High performers (F1 > 0.9): 41 classes\n",
      "    ENVO:03501300: F1=1.000, support=1\n",
      "    ENVO:02000092: F1=1.000, support=1\n",
      "    ENVO:02000001: F1=1.000, support=3\n",
      "    ENVO:01001881: F1=1.000, support=4\n",
      "    ENVO:00003911: F1=1.000, support=10\n",
      "\n",
      "  Poor performers (F1 < 0.3): 309 classes\n",
      "    ENVO:00000081: F1=0.296, support=68\n",
      "    ENVO:01000556: F1=0.286, support=6\n",
      "    ENVO:00000275: F1=0.286, support=6\n",
      "    ENVO:00000890: F1=0.276, support=25\n",
      "    ENVO:00000033: F1=0.274, support=100\n",
      "\n",
      "  ⚠️  Classes with 0% F1 (completely failed): 264\n",
      "      These are likely rare classes that need more samples or parent grouping\n",
      "\n",
      "env_medium:\n",
      "  Total classes: 325\n",
      "  Macro avg F1: 0.152\n",
      "  Weighted avg F1: 0.519\n",
      "\n",
      "  High performers (F1 > 0.9): 11 classes\n",
      "    ENVO:00000057: F1=1.000, support=1\n",
      "    ENVO:00003968: F1=1.000, support=12\n",
      "    ENVO:06105012: F1=1.000, support=8\n",
      "    ENVO:01001838: F1=0.990, support=105\n",
      "    ENVO:01000892: F1=0.963, support=90\n",
      "\n",
      "  Poor performers (F1 < 0.3): 258 classes\n",
      "    ENVO:01000430: F1=0.286, support=6\n",
      "    ENVO:00000114: F1=0.286, support=28\n",
      "    ENVO:00002228: F1=0.273, support=38\n",
      "    ENVO:00000051: F1=0.267, support=38\n",
      "    ENVO:03600065: F1=0.261, support=20\n",
      "\n",
      "  ⚠️  Classes with 0% F1 (completely failed): 237\n",
      "      These are likely rare classes that need more samples or parent grouping\n"
     ]
    }
   ],
   "execution_count": 21
  },
  {
   "cell_type": "markdown",
   "source": "## Deduplication Impact Analysis",
   "metadata": {}
  },
  {
   "cell_type": "code",
   "source": "# Train models on non-deduplicated data\nall_results_no_dedup = {}\nfor source_name, df in datasets_no_dedup.items():\n    all_results_no_dedup[source_name] = analyze_source(df, f\"{source_name}-NoDedup\")",
   "metadata": {
    "ExecuteTime": {
     "end_time": "2025-10-08T21:46:57.330471Z",
     "start_time": "2025-10-08T21:46:43.819671Z"
    }
   },
   "outputs": [
    {
     "name": "stdout",
     "output_type": "stream",
     "text": [
      "\n",
      "------------------------------------------------------------\n",
      "Training models: GOLD-NoDedup\n",
      "------------------------------------------------------------\n",
      "\n",
      "  env_broad_scale...\n",
      "    Filtered: removed 10 rare classes (24 samples with <5 per class)\n",
      "    Removed classes (10):\n",
      "      - ENVO:01000247: 4 samples\n",
      "      - ENVO:01000216: 4 samples\n",
      "      - ENVO:01001838: 3 samples\n",
      "      - ENVO:01001831: 3 samples\n",
      "      - ENVO:01001836: 3 samples\n",
      "      - ENVO:01000048: 2 samples\n",
      "      - ENVO:00000044: 2 samples\n",
      "      - ENVO:01000127: 1 samples\n",
      "      - ENVO:01000229: 1 samples\n",
      "      - ENVO:01001835: 1 samples\n"
     ]
    },
    {
     "name": "stderr",
     "output_type": "stream",
     "text": [
      "/Users/MAM/Documents/gitrepos/env-embeddings/.venv/lib/python3.11/site-packages/sklearn/model_selection/_split.py:811: UserWarning: The least populated class in y has only 3 members, which is less than n_splits=5.\n",
      "  warnings.warn(\n"
     ]
    },
    {
     "name": "stdout",
     "output_type": "stream",
     "text": [
      "    Classes:  30 | Test acc: 0.911 | CV: 0.907±0.011 | Overfit: +0.018\n",
      "\n",
      "  env_local_scale...\n",
      "    Filtered: removed 38 rare classes (86 samples with <5 per class)\n",
      "    Removed classes (38):\n",
      "      - ENVO:00002000: 4 samples\n",
      "      - ENVO:00000305: 4 samples\n",
      "      - ENVO:00000078: 4 samples\n",
      "      - ENVO:00000055: 4 samples\n",
      "      - ENVO:00002168: 4 samples\n",
      "      - ENVO:00000195: 4 samples\n",
      "      - ENVO:04000010: 3 samples\n",
      "      - ENVO:00000083: 3 samples\n",
      "      - ENVO:01000687: 3 samples\n",
      "      - ENVO:00000081: 3 samples\n",
      "      ... and 28 more\n"
     ]
    },
    {
     "name": "stderr",
     "output_type": "stream",
     "text": [
      "/Users/MAM/Documents/gitrepos/env-embeddings/.venv/lib/python3.11/site-packages/sklearn/model_selection/_split.py:811: UserWarning: The least populated class in y has only 4 members, which is less than n_splits=5.\n",
      "  warnings.warn(\n"
     ]
    },
    {
     "name": "stdout",
     "output_type": "stream",
     "text": [
      "    Classes: 101 | Test acc: 0.830 | CV: 0.821±0.027 | Overfit: +0.036\n",
      "\n",
      "  env_medium...\n",
      "    Filtered: removed 15 rare classes (24 samples with <5 per class)\n",
      "    Removed classes (15):\n",
      "      - ENVO:00002263: 3 samples\n",
      "      - ENVO:03000038: 3 samples\n",
      "      - ENVO:00002243: 2 samples\n",
      "      - ENVO:01001651: 2 samples\n",
      "      - ENVO:02000140: 2 samples\n",
      "      - ENVO:00002258: 2 samples\n",
      "      - ENVO:00005741: 2 samples\n",
      "      - ENVO:01000231: 1 samples\n",
      "      - ENVO:01000001: 1 samples\n",
      "      - ENVO:01000964: 1 samples\n",
      "      ... and 5 more\n"
     ]
    },
    {
     "name": "stderr",
     "output_type": "stream",
     "text": [
      "/Users/MAM/Documents/gitrepos/env-embeddings/.venv/lib/python3.11/site-packages/sklearn/model_selection/_split.py:811: UserWarning: The least populated class in y has only 3 members, which is less than n_splits=5.\n",
      "  warnings.warn(\n"
     ]
    },
    {
     "name": "stdout",
     "output_type": "stream",
     "text": [
      "    Classes:  63 | Test acc: 0.826 | CV: 0.816±0.009 | Overfit: +0.018\n",
      "\n",
      "------------------------------------------------------------\n",
      "Training models: NMDC-NoDedup\n",
      "------------------------------------------------------------\n",
      "\n",
      "  env_broad_scale...\n",
      "    Filtered: removed 3 rare classes (7 samples with <5 per class)\n",
      "    Removed classes (3):\n",
      "      - ENVO:01000189: 4 samples\n",
      "      - ENVO:01000247: 2 samples\n",
      "      - ENVO:01000049: 1 samples\n"
     ]
    },
    {
     "name": "stderr",
     "output_type": "stream",
     "text": [
      "/Users/MAM/Documents/gitrepos/env-embeddings/.venv/lib/python3.11/site-packages/sklearn/model_selection/_split.py:811: UserWarning: The least populated class in y has only 3 members, which is less than n_splits=5.\n",
      "  warnings.warn(\n"
     ]
    },
    {
     "name": "stdout",
     "output_type": "stream",
     "text": [
      "    Classes:  16 | Test acc: 0.961 | CV: 0.961±0.009 | Overfit: +0.016\n",
      "\n",
      "  env_local_scale...\n",
      "    Filtered: removed 9 rare classes (30 samples with <5 per class)\n",
      "    Removed classes (9):\n",
      "      - ENVO:00002130: 4 samples\n",
      "      - ENVO:00000182: 4 samples\n",
      "      - ENVO:00000305: 4 samples\n",
      "      - ENVO:00000083: 4 samples\n",
      "      - ENVO:00000086: 4 samples\n",
      "      - ENVO:00000444: 4 samples\n",
      "      - ENVO:00002132: 3 samples\n",
      "      - ENVO:00000128: 2 samples\n",
      "      - ENVO:00000426: 1 samples\n"
     ]
    },
    {
     "name": "stderr",
     "output_type": "stream",
     "text": [
      "/Users/MAM/Documents/gitrepos/env-embeddings/.venv/lib/python3.11/site-packages/sklearn/model_selection/_split.py:811: UserWarning: The least populated class in y has only 4 members, which is less than n_splits=5.\n",
      "  warnings.warn(\n"
     ]
    },
    {
     "name": "stdout",
     "output_type": "stream",
     "text": [
      "    Classes:  42 | Test acc: 0.882 | CV: 0.888±0.014 | Overfit: +0.047\n",
      "\n",
      "  env_medium...\n",
      "    Filtered: removed 3 rare classes (5 samples with <5 per class)\n",
      "    Removed classes (3):\n",
      "      - ENVO:00005760: 2 samples\n",
      "      - ENVO:00005773: 2 samples\n",
      "      - ENVO:01000155: 1 samples\n",
      "    Classes:  27 | Test acc: 0.890 | CV: 0.895±0.012 | Overfit: +0.039\n"
     ]
    }
   ],
   "execution_count": 22
  },
  {
   "cell_type": "code",
   "source": "# Import dedup comparison function\nfrom env_embeddings.rf_analysis import create_dedup_comparison_table",
   "metadata": {
    "ExecuteTime": {
     "end_time": "2025-10-08T21:46:57.368585Z",
     "start_time": "2025-10-08T21:46:57.366249Z"
    }
   },
   "outputs": [],
   "execution_count": 23
  },
  {
   "cell_type": "code",
   "source": "# Create comparison table\ndedup_comparison = create_dedup_comparison_table(all_results, all_results_no_dedup)",
   "metadata": {
    "ExecuteTime": {
     "end_time": "2025-10-08T21:46:57.413469Z",
     "start_time": "2025-10-08T21:46:57.410446Z"
    }
   },
   "outputs": [],
   "execution_count": 24
  },
  {
   "cell_type": "code",
   "source": "# Display comparison\nprint(\"\\nDeduplication Impact Comparison:\")\nprint(dedup_comparison.to_string(index=False))",
   "metadata": {
    "ExecuteTime": {
     "end_time": "2025-10-08T21:46:57.462248Z",
     "start_time": "2025-10-08T21:46:57.455283Z"
    }
   },
   "outputs": [
    {
     "name": "stdout",
     "output_type": "stream",
     "text": [
      "\n",
      "Deduplication Impact Comparison:\n",
      "Source       Scale  Dedup_Acc  NoDedup_Acc  Acc_Delta  Dedup_Overfit  NoDedup_Overfit  Overfit_Delta  Dedup_Samples  NoDedup_Samples\n",
      "  GOLD broad_scale   0.826139     0.911368  -0.085229       0.086005         0.018038       0.067967           4169            10377\n",
      "  GOLD local_scale   0.774510     0.830344  -0.055834       0.127391         0.035870       0.091521           4078            10315\n",
      "  GOLD      medium   0.746988     0.826108  -0.079120       0.120362         0.017646       0.102716           4147            10377\n",
      "  NMDC broad_scale   0.933118     0.960567  -0.027449       0.024496         0.015554       0.008942           4631             8114\n",
      "  NMDC local_scale   0.843074     0.882026  -0.038952       0.095746         0.047362       0.048384           4618             8091\n",
      "  NMDC      medium   0.823784     0.890394  -0.066610       0.091892         0.039212       0.052680           4625             8116\n"
     ]
    }
   ],
   "execution_count": 25
  },
  {
   "cell_type": "markdown",
   "source": "## Visualization: Deduplication Impact",
   "metadata": {}
  },
  {
   "metadata": {
    "ExecuteTime": {
     "end_time": "2025-10-08T21:46:57.882615Z",
     "start_time": "2025-10-08T21:46:57.506663Z"
    }
   },
   "cell_type": "code",
   "source": [
    "fig, (ax1, ax2) = plt.subplots(1, 2, figsize=(14, 6))\n",
    "\n",
    "# Accuracy comparison\n",
    "x = range(len(dedup_comparison))\n",
    "width = 0.35\n",
    "ax1.bar([i - width/2 for i in x], dedup_comparison['NoDedup_Acc'],\n",
    "        width, label='With Duplicates', alpha=0.7)\n",
    "ax1.bar([i + width/2 for i in x], dedup_comparison['Dedup_Acc'],\n",
    "        width, label='Deduplicated', alpha=0.7)\n",
    "ax1.set_ylabel('Test Accuracy')\n",
    "ax1.set_title('Accuracy: Deduplicated vs With Duplicates')\n",
    "ax1.set_xticks(x)\n",
    "ax1.set_xticklabels([f\"{row['Source']}\\n{row['Scale']}\"\n",
    "                      for _, row in dedup_comparison.iterrows()], rotation=45, ha='right')\n",
    "ax1.legend()\n",
    "ax1.grid(axis='y', alpha=0.3)\n",
    "\n",
    "# Overfitting comparison\n",
    "ax2.bar([i - width/2 for i in x], dedup_comparison['NoDedup_Overfit'],\n",
    "        width, label='With Duplicates', alpha=0.7)\n",
    "ax2.bar([i + width/2 for i in x], dedup_comparison['Dedup_Overfit'],\n",
    "        width, label='Deduplicated', alpha=0.7)\n",
    "ax2.set_ylabel('Overfitting (Train - Test)')\n",
    "ax2.set_title('Overfitting: Deduplicated vs With Duplicates')\n",
    "ax2.set_xticks(x)\n",
    "ax2.set_xticklabels([f\"{row['Source']}\\n{row['Scale']}\"\n",
    "                      for _, row in dedup_comparison.iterrows()], rotation=45, ha='right')\n",
    "ax2.axhline(y=0.1, color='red', linestyle='--', alpha=0.5, label='High (>0.1)')\n",
    "ax2.legend()\n",
    "ax2.grid(axis='y', alpha=0.3)\n",
    "\n",
    "plt.tight_layout()\n",
    "plt.show()"
   ],
   "outputs": [
    {
     "data": {
      "text/plain": [
       "<Figure size 1400x600 with 2 Axes>"
      ],
      "image/png": "[encoded data removed]"
     },
     "metadata": {},
     "output_type": "display_data"
    }
   ],
   "execution_count": 26
  },
  {
   "cell_type": "markdown",
   "source": "## Per-Class Performance Analysis",
   "metadata": {}
  },
  {
   "metadata": {
    "ExecuteTime": {
     "end_time": "2025-10-08T21:46:57.927573Z",
     "start_time": "2025-10-08T21:46:57.925485Z"
    }
   },
   "cell_type": "code",
   "source": "",
   "outputs": [],
   "execution_count": null
  }
 ],
 "metadata": {
  "kernelspec": {
   "display_name": "Python 3",
   "language": "python",
   "name": "python3"
  },
  "language_info": {
   "name": "python",
   "version": "3.10.0"
  }
 },
 "nbformat": 4,
 "nbformat_minor": 4
}
